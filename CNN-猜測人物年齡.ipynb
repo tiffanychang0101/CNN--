{
 "cells": [
  {
   "cell_type": "code",
   "execution_count": 4,
   "metadata": {},
   "outputs": [],
   "source": [
    "import os\n",
    "import random\n",
    "import pandas as pd #excel可以做的圖表pandas都做得到\n",
    "import numpy as np #矩陣運算處理用numpy\n",
    "from PIL import Image\n"
   ]
  },
  {
   "cell_type": "code",
   "execution_count": 5,
   "metadata": {},
   "outputs": [
    {
     "name": "stdout",
     "output_type": "stream",
     "text": [
      "           name  age\n",
      "0  ML000001.jpg    0\n",
      "1  ML000002.jpg    0\n",
      "2  ML000003.jpg    0\n",
      "3  ML000004.jpg    0\n",
      "4  ML000005.jpg    0\n",
      "   id          name\n",
      "0   1  ML159443.jpg\n",
      "1   2  ML156219.jpg\n",
      "2   3  ML159875.jpg\n",
      "3   4  ML160305.jpg\n",
      "4   5  ML156123.jpg\n"
     ]
    },
    {
     "data": {
      "text/plain": [
       "pandas.core.frame.DataFrame"
      ]
     },
     "execution_count": 5,
     "metadata": {},
     "output_type": "execute_result"
    }
   ],
   "source": [
    "#讀檔\n",
    "\n",
    "root_dir=os.path.abspath('C:\\\\Users\\\\DELL\\\\Desktop\\\\ML_final_project')\n",
    "train=pd.read_csv(os.path.join(root_dir,'train.csv'))\n",
    "test=pd.read_csv(os.path.join(root_dir,'test.csv'))\n",
    "\n",
    "#train=pd.read_csv('C:\\\\Users\\\\DELL\\\\Desktop\\\\ML_final_project\\\\train.csv')\n",
    "#test=pd.read_csv('C:\\\\Users\\\\DELL\\\\Desktop\\\\ML_final_project\\\\test.csv')\n",
    " \n",
    "print(train.head())\n",
    "print(test.head())\n",
    "\n",
    "type(train)\n",
    "\n",
    "#train.head()"
   ]
  },
  {
   "cell_type": "code",
   "execution_count": 6,
   "metadata": {},
   "outputs": [
    {
     "name": "stdout",
     "output_type": "stream",
     "text": [
      "(152552, 32, 32, 3)\n",
      "4\n"
     ]
    }
   ],
   "source": [
    "#格式化圖片尺寸32*32 + 將圖片轉換成numpy數組\n",
    "\n",
    "temp=[]\n",
    "for img_name in train.name:\n",
    "    img_path=os.path.join(root_dir,'train',img_name)\n",
    "    img=Image.open(img_path)\n",
    "    img=img.resize((32,32))\n",
    "    array=np.array(img)\n",
    "    temp.append(array.astype('float32'))\n",
    "train_x=np.stack(temp)\n",
    "print(train_x.shape)\n",
    "print(train_x.ndim) #ndim-->多少維度\n"
   ]
  },
  {
   "cell_type": "code",
   "execution_count": 7,
   "metadata": {},
   "outputs": [
    {
     "name": "stdout",
     "output_type": "stream",
     "text": [
      "(10896, 32, 32, 3)\n",
      "4\n"
     ]
    }
   ],
   "source": [
    "temp=[]\n",
    "for img_name in test.name:\n",
    "    img_path=os.path.join(root_dir,'test',img_name)\n",
    "    img=Image.open(img_path)\n",
    "    img=img.resize((32,32))\n",
    "    array=np.array(img)\n",
    "    temp.append(array.astype('float32'))\n",
    "test_x=np.stack(temp)\n",
    "print(test_x.shape)\n",
    "print(test_x.ndim)"
   ]
  },
  {
   "cell_type": "code",
   "execution_count": 8,
   "metadata": {},
   "outputs": [],
   "source": [
    "#每個像素是0-255的值，影像資料標準化：針對灰階image最簡單的方式是除以255。最後print第0筆資料，發現其值已介於0與1之間。\n",
    "#normalization-->讓模型訓練更快\n",
    "\n",
    "train_x = train_x / 255.\n",
    "test_x = test_x / 255."
   ]
  },
  {
   "cell_type": "code",
   "execution_count": 9,
   "metadata": {},
   "outputs": [
    {
     "data": {
      "text/plain": [
       "2    0.263726\n",
       "3    0.246827\n",
       "1    0.239027\n",
       "4    0.189424\n",
       "0    0.043179\n",
       "5    0.017817\n",
       "Name: age, dtype: float64"
      ]
     },
     "execution_count": 9,
     "metadata": {},
     "output_type": "execute_result"
    }
   ],
   "source": [
    "#圖片年齡大致分布\n",
    "#0:10-19歲 、1:20-29歲 、2:30-39歲、 3:40-49歲、4:50-59歲、 5:60歲以上\n",
    "\n",
    "train.age.value_counts(normalize=True)"
   ]
  },
  {
   "cell_type": "code",
   "execution_count": 10,
   "metadata": {},
   "outputs": [
    {
     "name": "stdout",
     "output_type": "stream",
     "text": [
      "[0 0 0 ... 5 5 5]\n",
      "[[1. 0. 0. 0. 0. 0.]\n",
      " [1. 0. 0. 0. 0. 0.]\n",
      " [1. 0. 0. 0. 0. 0.]\n",
      " ...\n",
      " [0. 0. 0. 0. 0. 1.]\n",
      " [0. 0. 0. 0. 0. 1.]\n",
      " [0. 0. 0. 0. 0. 1.]]\n",
      "(152552, 6)\n"
     ]
    }
   ],
   "source": [
    "#將目標變量(在此專題指age)處理虛擬列(dummy columns)-->使模型更容易接受識別它(be easier for our model to ingest it)\n",
    "#Many machine learning tools will only accept numbers as input. \n",
    "#This may be a problem if you want to use such tool but your data includes categorical features. \n",
    "\n",
    "import keras\n",
    "from sklearn.preprocessing import LabelEncoder\n",
    "lb=LabelEncoder()\n",
    "train_y=lb.fit_transform(train.age)\n",
    "print(train_y)\n",
    "train_y=keras.utils.np_utils.to_categorical(train_y)\n",
    "print(train_y)\n",
    "print(train_y.shape)"
   ]
  },
  {
   "cell_type": "code",
   "execution_count": 34,
   "metadata": {},
   "outputs": [
    {
     "name": "stdout",
     "output_type": "stream",
     "text": [
      "_________________________________________________________________\n",
      "Layer (type)                 Output Shape              Param #   \n",
      "=================================================================\n",
      "batch_normalization_26 (Batc (None, 32, 32, 3)         12        \n",
      "_________________________________________________________________\n",
      "conv2d_21 (Conv2D)           (None, 30, 30, 32)        896       \n",
      "_________________________________________________________________\n",
      "leaky_re_lu_26 (LeakyReLU)   (None, 30, 30, 32)        0         \n",
      "_________________________________________________________________\n",
      "batch_normalization_27 (Batc (None, 30, 30, 32)        128       \n",
      "_________________________________________________________________\n",
      "conv2d_22 (Conv2D)           (None, 28, 28, 32)        9248      \n",
      "_________________________________________________________________\n",
      "leaky_re_lu_27 (LeakyReLU)   (None, 28, 28, 32)        0         \n",
      "_________________________________________________________________\n",
      "batch_normalization_28 (Batc (None, 28, 28, 32)        128       \n",
      "_________________________________________________________________\n",
      "max_pooling2d_11 (MaxPooling (None, 14, 14, 32)        0         \n",
      "_________________________________________________________________\n",
      "conv2d_23 (Conv2D)           (None, 12, 12, 64)        18496     \n",
      "_________________________________________________________________\n",
      "leaky_re_lu_28 (LeakyReLU)   (None, 12, 12, 64)        0         \n",
      "_________________________________________________________________\n",
      "batch_normalization_29 (Batc (None, 12, 12, 64)        256       \n",
      "_________________________________________________________________\n",
      "conv2d_24 (Conv2D)           (None, 10, 10, 64)        36928     \n",
      "_________________________________________________________________\n",
      "leaky_re_lu_29 (LeakyReLU)   (None, 10, 10, 64)        0         \n",
      "_________________________________________________________________\n",
      "batch_normalization_30 (Batc (None, 10, 10, 64)        256       \n",
      "_________________________________________________________________\n",
      "max_pooling2d_12 (MaxPooling (None, 5, 5, 64)          0         \n",
      "_________________________________________________________________\n",
      "flatten_6 (Flatten)          (None, 1600)              0         \n",
      "_________________________________________________________________\n",
      "dropout_11 (Dropout)         (None, 1600)              0         \n",
      "_________________________________________________________________\n",
      "dense_11 (Dense)             (None, 384)               614784    \n",
      "_________________________________________________________________\n",
      "leaky_re_lu_30 (LeakyReLU)   (None, 384)               0         \n",
      "_________________________________________________________________\n",
      "dropout_12 (Dropout)         (None, 384)               0         \n",
      "_________________________________________________________________\n",
      "dense_12 (Dense)             (None, 6)                 2310      \n",
      "=================================================================\n",
      "Total params: 683,442\n",
      "Trainable params: 683,052\n",
      "Non-trainable params: 390\n",
      "_________________________________________________________________\n"
     ]
    }
   ],
   "source": [
    "\n",
    "# Importing the Keras libraries and packages\n",
    "import keras\n",
    "from keras.models import Sequential, Model\n",
    "from keras.layers import *\n",
    "from keras.layers.advanced_activations import PReLU, LeakyReLU, ELU\n",
    "from keras.optimizers import SGD\n",
    "from keras.constraints import maxnorm\n",
    "\n",
    "from keras import backend as K\n",
    "K.set_image_dim_ordering('tf')\n",
    "\n",
    "from keras.preprocessing import image\n",
    "from keras.models import Sequential\n",
    "from keras.layers import Dense,Flatten,InputLayer\n",
    "from keras.layers import Dropout,Flatten,Conv2D,MaxPooling2D\n",
    "\n",
    "epochs =10\n",
    "\n",
    "model = Sequential([\n",
    "        BatchNormalization(input_shape = (32,32,3)),\n",
    "        Convolution2D(32,(3,3), activation='sigmoid'),\n",
    "        LeakyReLU(alpha = 0.3),\n",
    "        BatchNormalization(),\n",
    "        Convolution2D(32,(3,3), activation='sigmoid'),\n",
    "        LeakyReLU(alpha = 0.3),\n",
    "        BatchNormalization(),\n",
    "        MaxPooling2D(),\n",
    "        Convolution2D(64,(3,3), activation='sigmoid'),\n",
    "        LeakyReLU(alpha = 0.3),\n",
    "        BatchNormalization(),\n",
    "        Convolution2D(64,(3,3), activation='sigmoid'),\n",
    "        LeakyReLU(alpha = 0.3),\n",
    "        BatchNormalization(),\n",
    "        MaxPooling2D(),\n",
    "        Flatten(),\n",
    "        Dropout(0.3),\n",
    "        Dense(384, activation='linear'),\n",
    "        LeakyReLU(alpha = 0.3),\n",
    "        Dropout(0.6),\n",
    "        Dense(6, activation='softmax')\n",
    "        ])\n",
    "model.summary()"
   ]
  },
  {
   "cell_type": "code",
   "execution_count": 35,
   "metadata": {},
   "outputs": [
    {
     "name": "stdout",
     "output_type": "stream",
     "text": [
      "Train on 122041 samples, validate on 30511 samples\n",
      "Epoch 1/10\n",
      "122041/122041 [==============================] - 1952s 16ms/step - loss: 1.3315 - acc: 0.3667 - val_loss: 4.8651 - val_acc: 0.0000e+00\n",
      "Epoch 2/10\n",
      "122041/122041 [==============================] - 1985s 16ms/step - loss: 1.2589 - acc: 0.3896 - val_loss: 4.9307 - val_acc: 0.0000e+00\n",
      "Epoch 3/10\n",
      "122041/122041 [==============================] - 2095s 17ms/step - loss: 1.2427 - acc: 0.4056 - val_loss: 4.9366 - val_acc: 0.0000e+00\n",
      "Epoch 4/10\n",
      "122041/122041 [==============================] - 1974s 16ms/step - loss: 1.2282 - acc: 0.4142 - val_loss: 5.1523 - val_acc: 0.0000e+00\n",
      "Epoch 5/10\n",
      "122041/122041 [==============================] - 2223s 18ms/step - loss: 1.2144 - acc: 0.4269 - val_loss: 5.0426 - val_acc: 0.0000e+00\n",
      "Epoch 6/10\n",
      "122041/122041 [==============================] - 2242s 18ms/step - loss: 1.2027 - acc: 0.4351 - val_loss: 4.9254 - val_acc: 0.0000e+00\n",
      "Epoch 7/10\n",
      "122041/122041 [==============================] - 2075s 17ms/step - loss: 1.1923 - acc: 0.4433 - val_loss: 5.0997 - val_acc: 0.0000e+00\n",
      "Epoch 8/10\n",
      "122041/122041 [==============================] - 2066s 17ms/step - loss: 1.1823 - acc: 0.4508 - val_loss: 5.1921 - val_acc: 0.0000e+00\n",
      "Epoch 9/10\n",
      "122041/122041 [==============================] - 2139s 18ms/step - loss: 1.1737 - acc: 0.4567 - val_loss: 4.9414 - val_acc: 0.0000e+00\n",
      "Epoch 10/10\n",
      "122041/122041 [==============================] - 2239s 18ms/step - loss: 1.1649 - acc: 0.4624 - val_loss: 4.9170 - val_acc: 0.0000e+00\n"
     ]
    },
    {
     "data": {
      "text/plain": [
       "<keras.callbacks.History at 0x17419ee7ef0>"
      ]
     },
     "execution_count": 35,
     "metadata": {},
     "output_type": "execute_result"
    }
   ],
   "source": [
    "model.compile(loss='categorical_crossentropy', optimizer='sgd', metrics=['accuracy'])\n",
    "model.fit(train_x, train_y, epochs=epochs, validation_split=0.2)\n"
   ]
  },
  {
   "cell_type": "code",
   "execution_count": 36,
   "metadata": {},
   "outputs": [
    {
     "name": "stdout",
     "output_type": "stream",
     "text": [
      "[3 1 2 ... 3 2 2]\n"
     ]
    },
    {
     "name": "stderr",
     "output_type": "stream",
     "text": [
      "C:\\Users\\DELL\\Anaconda3\\lib\\site-packages\\sklearn\\preprocessing\\label.py:151: DeprecationWarning: The truth value of an empty array is ambiguous. Returning False, but in future this will result in an error. Use `array.size > 0` to check that an array is not empty.\n",
      "  if diff:\n"
     ]
    }
   ],
   "source": [
    "pred=model.predict_classes(test_x)\n",
    "pred=lb.inverse_transform(pred)\n",
    "print(pred)\n",
    "test['age']=pred\n",
    "test.to_csv('sub04.csv',index=False)\n"
   ]
  },
  {
   "cell_type": "code",
   "execution_count": 33,
   "metadata": {},
   "outputs": [
    {
     "name": "stdout",
     "output_type": "stream",
     "text": [
      "Original: 4 Predicted: 2\n"
     ]
    },
    {
     "name": "stderr",
     "output_type": "stream",
     "text": [
      "C:\\Users\\DELL\\Anaconda3\\lib\\site-packages\\sklearn\\preprocessing\\label.py:151: DeprecationWarning: The truth value of an empty array is ambiguous. Returning False, but in future this will result in an error. Use `array.size > 0` to check that an array is not empty.\n",
      "  if diff:\n"
     ]
    }
   ],
   "source": [
    "i = random.choice(train.index)\n",
    "img_name = train.name[i]\n",
    " \n",
    "img=Image.open(os.path.join(root_dir,'Train',img_name))\n",
    "img.show()\n",
    "pred = model.predict_classes(train_x)\n",
    "print('Original:', train.age[i], 'Predicted:', lb.inverse_transform(pred[i]))"
   ]
  },
  {
   "cell_type": "code",
   "execution_count": null,
   "metadata": {},
   "outputs": [],
   "source": []
  }
 ],
 "metadata": {
  "kernelspec": {
   "display_name": "Python 3",
   "language": "python",
   "name": "python3"
  },
  "language_info": {
   "codemirror_mode": {
    "name": "ipython",
    "version": 3
   },
   "file_extension": ".py",
   "mimetype": "text/x-python",
   "name": "python",
   "nbconvert_exporter": "python",
   "pygments_lexer": "ipython3",
   "version": "3.6.4"
  }
 },
 "nbformat": 4,
 "nbformat_minor": 2
}
